{
  "nbformat": 4,
  "nbformat_minor": 0,
  "metadata": {
    "colab": {
      "name": "Electra TR FineTuning.ipynb",
      "provenance": [],
      "collapsed_sections": [],
      "authorship_tag": "ABX9TyORpl2qTrYqyC2Kmk25bwVc",
      "include_colab_link": true
    },
    "kernelspec": {
      "name": "python3",
      "display_name": "Python 3"
    },
    "accelerator": "GPU",
    "widgets": {
      "application/vnd.jupyter.widget-state+json": {
        "4b532fd731a3453d910c818d98c92c49": {
          "model_module": "@jupyter-widgets/controls",
          "model_name": "HBoxModel",
          "state": {
            "_view_name": "HBoxView",
            "_dom_classes": [],
            "_model_name": "HBoxModel",
            "_view_module": "@jupyter-widgets/controls",
            "_model_module_version": "1.5.0",
            "_view_count": null,
            "_view_module_version": "1.5.0",
            "box_style": "",
            "layout": "IPY_MODEL_18ae52ff426f4556a0393acb7d20bee8",
            "_model_module": "@jupyter-widgets/controls",
            "children": [
              "IPY_MODEL_de2e49a5b69f4eab90a73f041792e765",
              "IPY_MODEL_e11189087b3e4bcf8302f55e7117f930"
            ]
          }
        },
        "18ae52ff426f4556a0393acb7d20bee8": {
          "model_module": "@jupyter-widgets/base",
          "model_name": "LayoutModel",
          "state": {
            "_view_name": "LayoutView",
            "grid_template_rows": null,
            "right": null,
            "justify_content": null,
            "_view_module": "@jupyter-widgets/base",
            "overflow": null,
            "_model_module_version": "1.2.0",
            "_view_count": null,
            "flex_flow": null,
            "width": null,
            "min_width": null,
            "border": null,
            "align_items": null,
            "bottom": null,
            "_model_module": "@jupyter-widgets/base",
            "top": null,
            "grid_column": null,
            "overflow_y": null,
            "overflow_x": null,
            "grid_auto_flow": null,
            "grid_area": null,
            "grid_template_columns": null,
            "flex": null,
            "_model_name": "LayoutModel",
            "justify_items": null,
            "grid_row": null,
            "max_height": null,
            "align_content": null,
            "visibility": null,
            "align_self": null,
            "height": null,
            "min_height": null,
            "padding": null,
            "grid_auto_rows": null,
            "grid_gap": null,
            "max_width": null,
            "order": null,
            "_view_module_version": "1.2.0",
            "grid_template_areas": null,
            "object_position": null,
            "object_fit": null,
            "grid_auto_columns": null,
            "margin": null,
            "display": null,
            "left": null
          }
        },
        "de2e49a5b69f4eab90a73f041792e765": {
          "model_module": "@jupyter-widgets/controls",
          "model_name": "IntProgressModel",
          "state": {
            "_view_name": "ProgressView",
            "style": "IPY_MODEL_3483d8f330434bb8a83c8b9979acd5cc",
            "_dom_classes": [],
            "description": "Reading Data:   0%",
            "_model_name": "IntProgressModel",
            "bar_style": "danger",
            "max": 853313,
            "_view_module": "@jupyter-widgets/controls",
            "_model_module_version": "1.5.0",
            "value": 0,
            "_view_count": null,
            "_view_module_version": "1.5.0",
            "orientation": "horizontal",
            "min": 0,
            "description_tooltip": null,
            "_model_module": "@jupyter-widgets/controls",
            "layout": "IPY_MODEL_38f59bf9b25e47bbbca621e96bf81239"
          }
        },
        "e11189087b3e4bcf8302f55e7117f930": {
          "model_module": "@jupyter-widgets/controls",
          "model_name": "HTMLModel",
          "state": {
            "_view_name": "HTMLView",
            "style": "IPY_MODEL_b8016cf3cb9b408a92bceb7c5121a454",
            "_dom_classes": [],
            "description": "",
            "_model_name": "HTMLModel",
            "placeholder": "​",
            "_view_module": "@jupyter-widgets/controls",
            "_model_module_version": "1.5.0",
            "value": " 0/853313 [00:00&lt;?, ?it/s]",
            "_view_count": null,
            "_view_module_version": "1.5.0",
            "description_tooltip": null,
            "_model_module": "@jupyter-widgets/controls",
            "layout": "IPY_MODEL_305c295adcf5446290a65d4e355a8a2b"
          }
        },
        "3483d8f330434bb8a83c8b9979acd5cc": {
          "model_module": "@jupyter-widgets/controls",
          "model_name": "ProgressStyleModel",
          "state": {
            "_view_name": "StyleView",
            "_model_name": "ProgressStyleModel",
            "description_width": "initial",
            "_view_module": "@jupyter-widgets/base",
            "_model_module_version": "1.5.0",
            "_view_count": null,
            "_view_module_version": "1.2.0",
            "bar_color": null,
            "_model_module": "@jupyter-widgets/controls"
          }
        },
        "38f59bf9b25e47bbbca621e96bf81239": {
          "model_module": "@jupyter-widgets/base",
          "model_name": "LayoutModel",
          "state": {
            "_view_name": "LayoutView",
            "grid_template_rows": null,
            "right": null,
            "justify_content": null,
            "_view_module": "@jupyter-widgets/base",
            "overflow": null,
            "_model_module_version": "1.2.0",
            "_view_count": null,
            "flex_flow": null,
            "width": null,
            "min_width": null,
            "border": null,
            "align_items": null,
            "bottom": null,
            "_model_module": "@jupyter-widgets/base",
            "top": null,
            "grid_column": null,
            "overflow_y": null,
            "overflow_x": null,
            "grid_auto_flow": null,
            "grid_area": null,
            "grid_template_columns": null,
            "flex": null,
            "_model_name": "LayoutModel",
            "justify_items": null,
            "grid_row": null,
            "max_height": null,
            "align_content": null,
            "visibility": null,
            "align_self": null,
            "height": null,
            "min_height": null,
            "padding": null,
            "grid_auto_rows": null,
            "grid_gap": null,
            "max_width": null,
            "order": null,
            "_view_module_version": "1.2.0",
            "grid_template_areas": null,
            "object_position": null,
            "object_fit": null,
            "grid_auto_columns": null,
            "margin": null,
            "display": null,
            "left": null
          }
        },
        "b8016cf3cb9b408a92bceb7c5121a454": {
          "model_module": "@jupyter-widgets/controls",
          "model_name": "DescriptionStyleModel",
          "state": {
            "_view_name": "StyleView",
            "_model_name": "DescriptionStyleModel",
            "description_width": "",
            "_view_module": "@jupyter-widgets/base",
            "_model_module_version": "1.5.0",
            "_view_count": null,
            "_view_module_version": "1.2.0",
            "_model_module": "@jupyter-widgets/controls"
          }
        },
        "305c295adcf5446290a65d4e355a8a2b": {
          "model_module": "@jupyter-widgets/base",
          "model_name": "LayoutModel",
          "state": {
            "_view_name": "LayoutView",
            "grid_template_rows": null,
            "right": null,
            "justify_content": null,
            "_view_module": "@jupyter-widgets/base",
            "overflow": null,
            "_model_module_version": "1.2.0",
            "_view_count": null,
            "flex_flow": null,
            "width": null,
            "min_width": null,
            "border": null,
            "align_items": null,
            "bottom": null,
            "_model_module": "@jupyter-widgets/base",
            "top": null,
            "grid_column": null,
            "overflow_y": null,
            "overflow_x": null,
            "grid_auto_flow": null,
            "grid_area": null,
            "grid_template_columns": null,
            "flex": null,
            "_model_name": "LayoutModel",
            "justify_items": null,
            "grid_row": null,
            "max_height": null,
            "align_content": null,
            "visibility": null,
            "align_self": null,
            "height": null,
            "min_height": null,
            "padding": null,
            "grid_auto_rows": null,
            "grid_gap": null,
            "max_width": null,
            "order": null,
            "_view_module_version": "1.2.0",
            "grid_template_areas": null,
            "object_position": null,
            "object_fit": null,
            "grid_auto_columns": null,
            "margin": null,
            "display": null,
            "left": null
          }
        }
      }
    }
  },
  "cells": [
    {
      "cell_type": "markdown",
      "metadata": {
        "id": "view-in-github",
        "colab_type": "text"
      },
      "source": [
        "<a href=\"https://colab.research.google.com/github/erayyildiz/ACL-Trends/blob/master/Electra_TR_FineTuning.ipynb\" target=\"_parent\"><img src=\"https://colab.research.google.com/assets/colab-badge.svg\" alt=\"Open In Colab\"/></a>"
      ]
    },
    {
      "cell_type": "markdown",
      "metadata": {
        "id": "N7As6CvmdgoB",
        "colab_type": "text"
      },
      "source": [
        "# Prepare Environment\n"
      ]
    },
    {
      "cell_type": "code",
      "metadata": {
        "id": "OjiyDZuUBYPA",
        "colab_type": "code",
        "colab": {}
      },
      "source": [
        "!pip install gdown &> /dev/null\n",
        "\n",
        "!rm -rf * && rm -rf .* &> /dev/null\n",
        "!unzip tr_models.zip -d . &> /dev/null\n",
        "!rm tr_models.zip &> /dev/null\n",
        "!mkdir datasets  &> /dev/null\n",
        "!unzip MD.zip  -d datasets/ &> /dev/null\n",
        "!rm MD.zip &> /dev/null"
      ],
      "execution_count": 0,
      "outputs": []
    },
    {
      "cell_type": "code",
      "metadata": {
        "id": "JcqTKdLphaos",
        "colab_type": "code",
        "colab": {}
      },
      "source": [
        "MODEL_NAME = 'bpe-stem-suffix-model'\n",
        "DATA_DIR = '/content/electra_tr_model/'\n",
        "TASKS_DATA_DIR = '/content/datasets/'"
      ],
      "execution_count": 0,
      "outputs": []
    },
    {
      "cell_type": "markdown",
      "metadata": {
        "id": "h6gurLv5Z0JB",
        "colab_type": "text"
      },
      "source": [
        "# Morphlogical Disambigation"
      ]
    },
    {
      "cell_type": "code",
      "metadata": {
        "id": "3qkmOSdHhaDD",
        "colab_type": "code",
        "colab": {}
      },
      "source": [
        "from model import tokenization\n",
        "from util import utils\n",
        "\n",
        "tokenizer = tokenization.FullTokenizer(\n",
        "        vocab_file=DATA_DIR + 'vocab.txt',\n",
        "        do_lower_case=True)"
      ],
      "execution_count": 0,
      "outputs": []
    },
    {
      "cell_type": "code",
      "metadata": {
        "id": "xq6rIBUJYnYs",
        "colab_type": "code",
        "outputId": "7b8f64ae-9a6b-4074-972e-3e639c311234",
        "colab": {
          "base_uri": "https://localhost:8080/",
          "height": 104,
          "referenced_widgets": [
            "4b532fd731a3453d910c818d98c92c49",
            "18ae52ff426f4556a0393acb7d20bee8",
            "de2e49a5b69f4eab90a73f041792e765",
            "e11189087b3e4bcf8302f55e7117f930",
            "3483d8f330434bb8a83c8b9979acd5cc",
            "38f59bf9b25e47bbbca621e96bf81239",
            "b8016cf3cb9b408a92bceb7c5121a454",
            "305c295adcf5446290a65d4e355a8a2b"
          ]
        }
      },
      "source": [
        "from tqdm import tqdm_notebook as tqdm\n",
        "\n",
        "train_file_path = TASKS_DATA_DIR + 'MD/data.train.txt'\n",
        "num_lines = sum(1 for _ in open(train_file_path, 'r'))\n",
        "\n",
        "sentences = []\n",
        "\n",
        "with open(train_file_path, encoding='UTF8') as f:\n",
        "    for line in tqdm(f, desc='Reading Data', total=num_lines):\n",
        "        trimmed_line = line.strip(\" \\r\\n\\t\")\n",
        "        if trimmed_line.startswith(\"<S>\") or trimmed_line.startswith(\"<s>\"):\n",
        "            sentence_words = []\n",
        "        elif trimmed_line.startswith(\"</S>\") or trimmed_line.startswith(\"</s>\"):\n",
        "                surface_words = []\n",
        "                analyzes = []\n",
        "                for word in sentence_words:\n",
        "                    parses = word.split()\n",
        "                    surface_words.append(parses[0])\n",
        "                    analyzes.append(parses[1:])\n",
        "\n",
        "                sentences.append((surface_words, analyzes))\n",
        "                break\n",
        "        elif len(trimmed_line) == 0 or \"<DOC>\" in trimmed_line or trimmed_line.startswith(\n",
        "                \"</DOC>\") or trimmed_line.startswith(\n",
        "                \"<TITLE>\") or trimmed_line.startswith(\"</TITLE>\"):\n",
        "            pass\n",
        "        else:\n",
        "            sentence_words.append(trimmed_line)"
      ],
      "execution_count": 0,
      "outputs": [
        {
          "output_type": "stream",
          "text": [
            "/usr/local/lib/python3.6/dist-packages/ipykernel_launcher.py:9: TqdmDeprecationWarning: This function will be removed in tqdm==5.0.0\n",
            "Please use `tqdm.notebook.tqdm` instead of `tqdm.tqdm_notebook`\n",
            "  if __name__ == '__main__':\n"
          ],
          "name": "stderr"
        },
        {
          "output_type": "display_data",
          "data": {
            "application/vnd.jupyter.widget-view+json": {
              "model_id": "4b532fd731a3453d910c818d98c92c49",
              "version_minor": 0,
              "version_major": 2
            },
            "text/plain": [
              "HBox(children=(IntProgress(value=0, description='Reading Data', max=853313, style=ProgressStyle(description_wi…"
            ]
          },
          "metadata": {
            "tags": []
          }
        }
      ]
    },
    {
      "cell_type": "code",
      "metadata": {
        "id": "utc9kIucbcuk",
        "colab_type": "code",
        "outputId": "dfda10ab-4718-4cc3-a221-a6d487808da6",
        "colab": {
          "base_uri": "https://localhost:8080/",
          "height": 345
        }
      },
      "source": [
        "for words, analyzes in sentences:\n",
        "    for word, cur_analyses in zip(words, analyzes):\n",
        "        word = word.replace('İ', 'i').replace('I', 'ı').lower()\n",
        "        print(tokenizer.wordpiece_tokenizer.tokenize(word))\n",
        "        print(cur_analyses)\n",
        "        print()"
      ],
      "execution_count": 0,
      "outputs": [
        {
          "output_type": "stream",
          "text": [
            "['refah']\n",
            "['Refah+Noun+Prop+A3sg+Pnon+Nom', 'refah+Noun+A3sg+Pnon+Nom']\n",
            "\n",
            "['da']\n",
            "['da+Conj']\n",
            "\n",
            "['türkçe']\n",
            "['Türkçe+Noun+Prop+A3sg+Pnon+Nom', 'türkçe+Adj', 'türk+Noun+A3sg+Pnon+Equ', 'türk+Adj^DB+Adverb+Ly', 'türk+Adj^DB+Adj+AsIf']\n",
            "\n",
            "['için']\n",
            "['için+Postp+PCNom', 'iç+Noun+A3sg+P2sg+Nom', 'iç+Noun+A3sg+Pnon+Gen', 'iç+Verb+Pos+Imp+A2pl']\n",
            "\n",
            "['görüş']\n",
            "['görüş+Noun+A3sg+Pnon+Nom', 'gör+Verb+Recip+Pos+Imp+A2sg', 'gör+Verb+Pos^DB+Noun+Inf3+A3sg+Pnon+Nom', 'görüş+Verb+Pos+Imp+A2sg']\n",
            "\n",
            "['iste', '##di']\n",
            "['iste+Verb+Pos+Past+A3sg']\n",
            "\n"
          ],
          "name": "stdout"
        }
      ]
    },
    {
      "cell_type": "code",
      "metadata": {
        "id": "o_63vWQLh3tP",
        "colab_type": "code",
        "outputId": "1a4b85dc-5b75-4d4e-d573-652f9389a159",
        "colab": {
          "base_uri": "https://localhost:8080/",
          "height": 690
        }
      },
      "source": [
        "tokenizer.tokenize('çok öğe Açık Her şey ve herkes yarım kaldı. Bu süreç , kültür sanat alanında bazı kurumları dijitale kaydırırken bazılarıysa dijitale mesafeli durmayı tercih etti.')"
      ],
      "execution_count": 0,
      "outputs": [
        {
          "output_type": "execute_result",
          "data": {
            "text/plain": [
              "['çok',\n",
              " 'öğe',\n",
              " 'açık',\n",
              " 'her',\n",
              " 'şey',\n",
              " 've',\n",
              " 'herkes',\n",
              " 'yarım',\n",
              " 'kaldı',\n",
              " '.',\n",
              " 'bu',\n",
              " 'süreç',\n",
              " ',',\n",
              " 'kültür',\n",
              " 'sanat',\n",
              " 'alan',\n",
              " '##ında',\n",
              " 'bazı',\n",
              " 'kurum',\n",
              " '##ları',\n",
              " 'dijital',\n",
              " '##e',\n",
              " 'kaydı',\n",
              " '##r',\n",
              " '##ırken',\n",
              " 'bazı',\n",
              " '##larıysa',\n",
              " 'dijital',\n",
              " '##e',\n",
              " 'mesafe',\n",
              " '##li',\n",
              " 'durma',\n",
              " '##yı',\n",
              " 'tercih',\n",
              " 'et',\n",
              " '##ti',\n",
              " '.']"
            ]
          },
          "metadata": {
            "tags": []
          },
          "execution_count": 4
        }
      ]
    },
    {
      "cell_type": "code",
      "metadata": {
        "id": "TtXRdw1SKRTq",
        "colab_type": "code",
        "outputId": "0bd9c7d6-9d60-4f4b-a8e2-c6ec35df3f66",
        "colab": {
          "base_uri": "https://localhost:8080/",
          "height": 244
        }
      },
      "source": [
        "from model import modeling\n",
        "from util import training_utils\n",
        "import configure_pretraining\n",
        "\n",
        "config = configure_pretraining.PretrainingConfig(MODEL_NAME, DATA_DIR)\n",
        "model_fn = model_fn_builder(config=config)\n",
        "\n",
        "\n",
        "bert_config = training_utils.get_bert_config(config)\n",
        "\n",
        "bert_model = modeling.BertModel(\n",
        "        bert_config=bert_config,\n",
        "        is_training=True,\n",
        "        input_ids=features[\"input_ids\"],\n",
        "        input_mask=features[\"input_mask\"],\n",
        "        token_type_ids=features[\"segment_ids\"],\n",
        "        use_one_hot_embeddings=config.use_tpu,\n",
        "        embedding_size=config.embedding_size)"
      ],
      "execution_count": 0,
      "outputs": [
        {
          "output_type": "error",
          "ename": "NameError",
          "evalue": "ignored",
          "traceback": [
            "\u001b[0;31m---------------------------------------------------------------------------\u001b[0m",
            "\u001b[0;31mNameError\u001b[0m                                 Traceback (most recent call last)",
            "\u001b[0;32m<ipython-input-5-62e921813287>\u001b[0m in \u001b[0;36m<module>\u001b[0;34m()\u001b[0m\n\u001b[1;32m      4\u001b[0m \u001b[0;34m\u001b[0m\u001b[0m\n\u001b[1;32m      5\u001b[0m \u001b[0mconfig\u001b[0m \u001b[0;34m=\u001b[0m \u001b[0mconfigure_pretraining\u001b[0m\u001b[0;34m.\u001b[0m\u001b[0mPretrainingConfig\u001b[0m\u001b[0;34m(\u001b[0m\u001b[0mMODEL_NAME\u001b[0m\u001b[0;34m,\u001b[0m \u001b[0mDATA_DIR\u001b[0m\u001b[0;34m)\u001b[0m\u001b[0;34m\u001b[0m\u001b[0;34m\u001b[0m\u001b[0m\n\u001b[0;32m----> 6\u001b[0;31m \u001b[0mmodel_fn\u001b[0m \u001b[0;34m=\u001b[0m \u001b[0mmodel_fn_builder\u001b[0m\u001b[0;34m(\u001b[0m\u001b[0mconfig\u001b[0m\u001b[0;34m=\u001b[0m\u001b[0mconfig\u001b[0m\u001b[0;34m)\u001b[0m\u001b[0;34m\u001b[0m\u001b[0;34m\u001b[0m\u001b[0m\n\u001b[0m\u001b[1;32m      7\u001b[0m \u001b[0;34m\u001b[0m\u001b[0m\n\u001b[1;32m      8\u001b[0m \u001b[0;34m\u001b[0m\u001b[0m\n",
            "\u001b[0;31mNameError\u001b[0m: name 'model_fn_builder' is not defined"
          ]
        }
      ]
    }
  ]
}