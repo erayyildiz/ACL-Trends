{
 "cells": [
  {
   "cell_type": "code",
   "execution_count": 1,
   "metadata": {},
   "outputs": [],
   "source": [
    "from tqdm import tqdm_notebook as tqdm"
   ]
  },
  {
   "cell_type": "code",
   "execution_count": 50,
   "metadata": {},
   "outputs": [
    {
     "data": {
      "text/plain": [
       "Index(['abstract', 'address', 'author', 'booktitle', 'doi', 'editor',\n",
       "       'journal', 'month', 'note', 'number', 'pages', 'publisher', 'title',\n",
       "       'url', 'volume', 'year'],\n",
       "      dtype='object')"
      ]
     },
     "execution_count": 50,
     "metadata": {},
     "output_type": "execute_result"
    }
   ],
   "source": [
    "# Load ACL Antology\n",
    "from tqdm import tqdm_notebook as tqdm\n",
    "import pandas as pd\n",
    "\n",
    "df = pd.read_excel('ACL_publications.xlsx')\n",
    "df.keys()"
   ]
  },
  {
   "cell_type": "code",
   "execution_count": 53,
   "metadata": {},
   "outputs": [
    {
     "data": {
      "text/plain": [
       "<matplotlib.axes._subplots.AxesSubplot at 0x238b4fbb0b8>"
      ]
     },
     "execution_count": 53,
     "metadata": {},
     "output_type": "execute_result"
    },
    {
     "data": {
      "image/png": "[encoded data removed]",
      "text/plain": [
       "<Figure size 1440x360 with 1 Axes>"
      ]
     },
     "metadata": {},
     "output_type": "display_data"
    }
   ],
   "source": [
    "# Paper counts over years\n",
    "df['year'].value_counts().plot(kind='bar', figsize=(20,5))"
   ]
  },
  {
   "cell_type": "code",
   "execution_count": 54,
   "metadata": {},
   "outputs": [],
   "source": [
    "# Fix year attribute, remove ',' at the end\n",
    "df['year'] = df['year'].apply(lambda x: x[:-1])"
   ]
  },
  {
   "cell_type": "code",
   "execution_count": 55,
   "metadata": {},
   "outputs": [],
   "source": [
    "df = df[df['publisher'].str.contains('Association for Computational Linguistics,', regex=False, na=False)]"
   ]
  },
  {
   "cell_type": "code",
   "execution_count": 56,
   "metadata": {},
   "outputs": [],
   "source": [
    "# Extract keywords from abstracts\n",
    "\n",
    "import spacy\n",
    "from langdetect import detect\n",
    "from langdetect.lang_detect_exception import LangDetectException\n",
    "\n",
    "nlp = spacy.load(\"en_core_web_sm\")"
   ]
  },
  {
   "cell_type": "code",
   "execution_count": 76,
   "metadata": {},
   "outputs": [
    {
     "data": {
      "application/vnd.jupyter.widget-view+json": {
       "model_id": "a8634f89c3fc467fb57c46f8567fa1c1",
       "version_major": 2,
       "version_minor": 0
      },
      "text/plain": [
       "HBox(children=(IntProgress(value=0, max=28406), HTML(value='')))"
      ]
     },
     "metadata": {},
     "output_type": "display_data"
    }
   ],
   "source": [
    "key_phrase_counts_over_years  = {\n",
    "    'overall': {},\n",
    "    **{year: {} for year in range(1965, 2020)}\n",
    "}\n",
    "\n",
    "for i, row in tqdm(df.iterrows(), total=len(df)):\n",
    "    \n",
    "    title = row['title']\n",
    "    year = int(row['year'])\n",
    "                   \n",
    "    if isinstance(title, str) and len(title) > 0:\n",
    "        try:\n",
    "            # lang = detect(title)\n",
    "            # if lang == 'en':\n",
    "            doc = nlp(title)\n",
    "            for np in doc.noun_chunks:\n",
    "                if len(np.lemma_.split()) > 1:\n",
    "                    key_phrase = np.lemma_\n",
    "                    \n",
    "                    if all(token.is_stop != True and token.is_punct != True and '-PRON-' not in token.lemma_ \n",
    "                           for token in np) == True:    \n",
    "                        \n",
    "                        key = np.lemma_.title()\n",
    "                        \n",
    "                        if key not in key_phrase_counts_over_years[year]:\n",
    "                            key_phrase_counts_over_years[year][key] = 1\n",
    "                        else:\n",
    "                            key_phrase_counts_over_years[year][key] += 1\n",
    "\n",
    "                        if key not in key_phrase_counts_over_years['overall']:\n",
    "                            key_phrase_counts_over_years['overall'][key] = 1\n",
    "                        else:\n",
    "                            key_phrase_counts_over_years['overall'][key] += 1\n",
    "                            \n",
    "                        \n",
    "        except LangDetectException as e:\n",
    "            continue"
   ]
  },
  {
   "cell_type": "code",
   "execution_count": 77,
   "metadata": {},
   "outputs": [],
   "source": [
    "\n",
    "# filter out common phrases like 'Shared Task:', 'Natural Language Processing' and dataset names \n",
    "stop_phrases = {\n",
    "    'task', 'natural language processing', 'computational linguistics', 'challenge', 'book reviews',\n",
    "    'the web', 'social media', 'corpus', 'semeval', 'workshop', 'journal'\n",
    "}\n",
    "\n",
    "def is_allowed(txt, d):\n",
    "    tokens = txt.lower().split()\n",
    "    for i in range(len(tokens)):\n",
    "        for j in range(i+1, len(tokens)+1):\n",
    "            if ' '.join(tokens[i:j]) in stop_phrases:\n",
    "                return False\n",
    "            \n",
    "    for np, _ in d.items():\n",
    "        lower_np = np.lower()\n",
    "        if txt in lower_np and lower_np != txt:\n",
    "            return False\n",
    "    \n",
    "    return True\n",
    "\n",
    "overall_key_phrase_counts = key_phrase_counts_over_years['overall']\n",
    "vocab = {}\n",
    "for np, count in overall_key_phrase_counts.items():\n",
    "    if count > 20 and np not in vocab and is_allowed(np, overall_key_phrase_counts):\n",
    "        vocab[np] = len(vocab)\n",
    "\n",
    "\n",
    "key_phrase_counts_over_years_filtered = {}        \n",
    "for year in range(1965, 2020):\n",
    "    key_phrase_counts_over_years_filtered[year] = {k:v for k, v in key_phrase_counts_over_years[year].items() if k in vocab}"
   ]
  },
  {
   "cell_type": "code",
   "execution_count": 144,
   "metadata": {},
   "outputs": [],
   "source": [
    "import numpy\n",
    "\n",
    "data = numpy.zeros((len(vocab), len(key_phrase_counts_over_years_filtered)))\n",
    "\n",
    "for i, year in enumerate(range(1965, 2020)):\n",
    "    for np, ix in vocab.items():\n",
    "        if np in key_phrase_counts_over_years_filtered[year]:\n",
    "            data[ix, i] = key_phrase_counts_over_years_filtered[year][np]\n"
   ]
  },
  {
   "cell_type": "code",
   "execution_count": 158,
   "metadata": {},
   "outputs": [],
   "source": [
    "del vocab['Natural Language']"
   ]
  },
  {
   "cell_type": "code",
   "execution_count": 198,
   "metadata": {},
   "outputs": [
    {
     "data": {
      "text/plain": [
       "(94, 55)"
      ]
     },
     "execution_count": 198,
     "metadata": {},
     "output_type": "execute_result"
    }
   ],
   "source": [
    "from sklearn.preprocessing import MinMaxScaler\n",
    "\n",
    "scaler = MinMaxScaler()\n",
    "data_normalized = scaler.fit_transform(data)\n",
    "data_normalized.shape"
   ]
  },
  {
   "cell_type": "code",
   "execution_count": 199,
   "metadata": {},
   "outputs": [],
   "source": [
    "data_normalized[data_normalized == 0.0] = numpy.nan\n",
    "data_normalized += 1\n",
    "data_normalized /= 2\n",
    "data_normalized *= 100\n"
   ]
  },
  {
   "cell_type": "code",
   "execution_count": 200,
   "metadata": {},
   "outputs": [
    {
     "data": {
      "text/html": [
       "<div>\n",
       "<style scoped>\n",
       "    .dataframe tbody tr th:only-of-type {\n",
       "        vertical-align: middle;\n",
       "    }\n",
       "\n",
       "    .dataframe tbody tr th {\n",
       "        vertical-align: top;\n",
       "    }\n",
       "\n",
       "    .dataframe thead th {\n",
       "        text-align: right;\n",
       "    }\n",
       "</style>\n",
       "<table border=\"1\" class=\"dataframe\">\n",
       "  <thead>\n",
       "    <tr style=\"text-align: right;\">\n",
       "      <th></th>\n",
       "      <th>word</th>\n",
       "      <th>1965</th>\n",
       "      <th>1966</th>\n",
       "      <th>1967</th>\n",
       "      <th>1968</th>\n",
       "      <th>1969</th>\n",
       "      <th>1970</th>\n",
       "      <th>1971</th>\n",
       "      <th>1972</th>\n",
       "      <th>1973</th>\n",
       "      <th>...</th>\n",
       "      <th>2010</th>\n",
       "      <th>2011</th>\n",
       "      <th>2012</th>\n",
       "      <th>2013</th>\n",
       "      <th>2014</th>\n",
       "      <th>2015</th>\n",
       "      <th>2016</th>\n",
       "      <th>2017</th>\n",
       "      <th>2018</th>\n",
       "      <th>2019</th>\n",
       "    </tr>\n",
       "  </thead>\n",
       "  <tbody>\n",
       "    <tr>\n",
       "      <th>0</th>\n",
       "      <td>Comparable Corpora</td>\n",
       "      <td>NaN</td>\n",
       "      <td>NaN</td>\n",
       "      <td>NaN</td>\n",
       "      <td>NaN</td>\n",
       "      <td>NaN</td>\n",
       "      <td>NaN</td>\n",
       "      <td>NaN</td>\n",
       "      <td>NaN</td>\n",
       "      <td>NaN</td>\n",
       "      <td>...</td>\n",
       "      <td>52.173913</td>\n",
       "      <td>72.727273</td>\n",
       "      <td>55.555556</td>\n",
       "      <td>66.129032</td>\n",
       "      <td>58.620690</td>\n",
       "      <td>59.259259</td>\n",
       "      <td>55.263158</td>\n",
       "      <td>55.813953</td>\n",
       "      <td>50.549451</td>\n",
       "      <td>NaN</td>\n",
       "    </tr>\n",
       "    <tr>\n",
       "      <th>1</th>\n",
       "      <td>Word Sense Disambiguation</td>\n",
       "      <td>NaN</td>\n",
       "      <td>NaN</td>\n",
       "      <td>NaN</td>\n",
       "      <td>NaN</td>\n",
       "      <td>NaN</td>\n",
       "      <td>NaN</td>\n",
       "      <td>NaN</td>\n",
       "      <td>NaN</td>\n",
       "      <td>NaN</td>\n",
       "      <td>...</td>\n",
       "      <td>60.869565</td>\n",
       "      <td>54.545455</td>\n",
       "      <td>51.851852</td>\n",
       "      <td>51.612903</td>\n",
       "      <td>53.448276</td>\n",
       "      <td>59.259259</td>\n",
       "      <td>55.263158</td>\n",
       "      <td>54.651163</td>\n",
       "      <td>51.648352</td>\n",
       "      <td>51.086957</td>\n",
       "    </tr>\n",
       "    <tr>\n",
       "      <th>2</th>\n",
       "      <td>Machine Translation</td>\n",
       "      <td>NaN</td>\n",
       "      <td>NaN</td>\n",
       "      <td>NaN</td>\n",
       "      <td>NaN</td>\n",
       "      <td>NaN</td>\n",
       "      <td>NaN</td>\n",
       "      <td>NaN</td>\n",
       "      <td>NaN</td>\n",
       "      <td>NaN</td>\n",
       "      <td>...</td>\n",
       "      <td>76.086957</td>\n",
       "      <td>84.090909</td>\n",
       "      <td>77.777778</td>\n",
       "      <td>90.322581</td>\n",
       "      <td>86.206897</td>\n",
       "      <td>79.629630</td>\n",
       "      <td>86.842105</td>\n",
       "      <td>77.906977</td>\n",
       "      <td>60.989011</td>\n",
       "      <td>67.391304</td>\n",
       "    </tr>\n",
       "    <tr>\n",
       "      <th>3</th>\n",
       "      <td>Language Models</td>\n",
       "      <td>NaN</td>\n",
       "      <td>NaN</td>\n",
       "      <td>NaN</td>\n",
       "      <td>NaN</td>\n",
       "      <td>NaN</td>\n",
       "      <td>NaN</td>\n",
       "      <td>NaN</td>\n",
       "      <td>NaN</td>\n",
       "      <td>NaN</td>\n",
       "      <td>...</td>\n",
       "      <td>NaN</td>\n",
       "      <td>56.818182</td>\n",
       "      <td>55.555556</td>\n",
       "      <td>53.225806</td>\n",
       "      <td>NaN</td>\n",
       "      <td>51.851852</td>\n",
       "      <td>52.631579</td>\n",
       "      <td>52.325581</td>\n",
       "      <td>53.846154</td>\n",
       "      <td>56.521739</td>\n",
       "    </tr>\n",
       "    <tr>\n",
       "      <th>4</th>\n",
       "      <td>Spoken Language Understanding</td>\n",
       "      <td>NaN</td>\n",
       "      <td>NaN</td>\n",
       "      <td>NaN</td>\n",
       "      <td>NaN</td>\n",
       "      <td>NaN</td>\n",
       "      <td>NaN</td>\n",
       "      <td>NaN</td>\n",
       "      <td>NaN</td>\n",
       "      <td>NaN</td>\n",
       "      <td>...</td>\n",
       "      <td>NaN</td>\n",
       "      <td>52.272727</td>\n",
       "      <td>53.703704</td>\n",
       "      <td>51.612903</td>\n",
       "      <td>51.724138</td>\n",
       "      <td>53.703704</td>\n",
       "      <td>57.894737</td>\n",
       "      <td>51.162791</td>\n",
       "      <td>52.197802</td>\n",
       "      <td>55.434783</td>\n",
       "    </tr>\n",
       "  </tbody>\n",
       "</table>\n",
       "<p>5 rows × 56 columns</p>\n",
       "</div>"
      ],
      "text/plain": [
       "                            word  1965  1966  1967  1968  1969  1970  1971  \\\n",
       "0             Comparable Corpora   NaN   NaN   NaN   NaN   NaN   NaN   NaN   \n",
       "1      Word Sense Disambiguation   NaN   NaN   NaN   NaN   NaN   NaN   NaN   \n",
       "2            Machine Translation   NaN   NaN   NaN   NaN   NaN   NaN   NaN   \n",
       "3                Language Models   NaN   NaN   NaN   NaN   NaN   NaN   NaN   \n",
       "4  Spoken Language Understanding   NaN   NaN   NaN   NaN   NaN   NaN   NaN   \n",
       "\n",
       "   1972  1973    ...           2010       2011       2012       2013  \\\n",
       "0   NaN   NaN    ...      52.173913  72.727273  55.555556  66.129032   \n",
       "1   NaN   NaN    ...      60.869565  54.545455  51.851852  51.612903   \n",
       "2   NaN   NaN    ...      76.086957  84.090909  77.777778  90.322581   \n",
       "3   NaN   NaN    ...            NaN  56.818182  55.555556  53.225806   \n",
       "4   NaN   NaN    ...            NaN  52.272727  53.703704  51.612903   \n",
       "\n",
       "        2014       2015       2016       2017       2018       2019  \n",
       "0  58.620690  59.259259  55.263158  55.813953  50.549451        NaN  \n",
       "1  53.448276  59.259259  55.263158  54.651163  51.648352  51.086957  \n",
       "2  86.206897  79.629630  86.842105  77.906977  60.989011  67.391304  \n",
       "3        NaN  51.851852  52.631579  52.325581  53.846154  56.521739  \n",
       "4  51.724138  53.703704  57.894737  51.162791  52.197802  55.434783  \n",
       "\n",
       "[5 rows x 56 columns]"
      ]
     },
     "execution_count": 200,
     "metadata": {},
     "output_type": "execute_result"
    }
   ],
   "source": [
    "trends = []\n",
    "\n",
    "for np, np_ix in vocab.items():\n",
    "    record = {'word': np}\n",
    "    for i, year in enumerate(range(1965, 2020)):\n",
    "        record[year] = data_normalized[np_ix, i]\n",
    "    trends.append(record)\n",
    "    \n",
    "trends_df = pd.DataFrame(trends)\n",
    "trends_df.head()\n",
    "        "
   ]
  },
  {
   "cell_type": "code",
   "execution_count": 201,
   "metadata": {},
   "outputs": [],
   "source": [
    "trends_df.to_excel('acl_trends.xlsx')"
   ]
  }
 ],
 "metadata": {
  "kernelspec": {
   "display_name": "Python 3",
   "language": "python",
   "name": "python3"
  },
  "language_info": {
   "codemirror_mode": {
    "name": "ipython",
    "version": 3
   },
   "file_extension": ".py",
   "mimetype": "text/x-python",
   "name": "python",
   "nbconvert_exporter": "python",
   "pygments_lexer": "ipython3",
   "version": "3.6.5"
  }
 },
 "nbformat": 4,
 "nbformat_minor": 2
}
