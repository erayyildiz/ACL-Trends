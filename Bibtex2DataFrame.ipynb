{
 "cells": [
  {
   "cell_type": "code",
   "execution_count": null,
   "metadata": {},
   "outputs": [],
   "source": [
    "# Read ACL Antoogy Bibtex\n",
    "\n",
    "records = []\n",
    "record = {}\n",
    "last_key = None\n",
    "with open('anthology.bib', 'r', encoding='UTF8') as f:\n",
    "    for ix, line in enumerate(f):\n",
    "        line = line.replace('\\=', '')\n",
    "        line = line.replace('{', '')\n",
    "        line = line.replace('}', '')\n",
    "        line = line.replace('\"', '')\n",
    "        line = line.strip()\n",
    "        if line.startswith('@'):\n",
    "            if len(record) > 0:\n",
    "                records.append(record)\n",
    "            record = {}\n",
    "            last_key = None\n",
    "        else:\n",
    "            if len(line) == 0:\n",
    "                continue\n",
    "            if '=' not in line and last_key is not None:\n",
    "                record[last_key] += line\n",
    "                continue\n",
    "            elif '=' not in line:\n",
    "                continue\n",
    "\n",
    "            splits = line.split('=')\n",
    "            # assert len(splits) == 2, 'Line is not key value format: {}'.format(line)\n",
    "            splits = [s.strip() for s in splits]\n",
    "            record[splits[0]] = '='.join(splits[1:])\n",
    "        \n",
    "            \n"
   ]
  }
 ],
 "metadata": {
  "kernelspec": {
   "display_name": "Python 3",
   "language": "python",
   "name": "python3"
  },
  "language_info": {
   "codemirror_mode": {
    "name": "ipython",
    "version": 3
   },
   "file_extension": ".py",
   "mimetype": "text/x-python",
   "name": "python",
   "nbconvert_exporter": "python",
   "pygments_lexer": "ipython3",
   "version": "3.6.5"
  }
 },
 "nbformat": 4,
 "nbformat_minor": 2
}
